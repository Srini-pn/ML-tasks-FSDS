{
 "cells": [
  {
   "cell_type": "code",
   "execution_count": 2,
   "id": "126d36b5",
   "metadata": {},
   "outputs": [],
   "source": [
    "import pandas as pd"
   ]
  },
  {
   "cell_type": "code",
   "execution_count": 3,
   "id": "9c3e30b9",
   "metadata": {},
   "outputs": [],
   "source": [
    "Admiss = pd.read_csv('https://raw.githubusercontent.com/srinivasav22/Graduate-Admission-Prediction/master/Admission_Predict_Ver1.1.csv')"
   ]
  },
  {
   "cell_type": "code",
   "execution_count": 4,
   "id": "d03bcc3f",
   "metadata": {},
   "outputs": [
    {
     "data": {
      "text/html": [
       "<div>\n",
       "<style scoped>\n",
       "    .dataframe tbody tr th:only-of-type {\n",
       "        vertical-align: middle;\n",
       "    }\n",
       "\n",
       "    .dataframe tbody tr th {\n",
       "        vertical-align: top;\n",
       "    }\n",
       "\n",
       "    .dataframe thead th {\n",
       "        text-align: right;\n",
       "    }\n",
       "</style>\n",
       "<table border=\"1\" class=\"dataframe\">\n",
       "  <thead>\n",
       "    <tr style=\"text-align: right;\">\n",
       "      <th></th>\n",
       "      <th>Serial No.</th>\n",
       "      <th>GRE Score</th>\n",
       "      <th>TOEFL Score</th>\n",
       "      <th>University Rating</th>\n",
       "      <th>SOP</th>\n",
       "      <th>LOR</th>\n",
       "      <th>CGPA</th>\n",
       "      <th>Research</th>\n",
       "      <th>Chance of Admit</th>\n",
       "    </tr>\n",
       "  </thead>\n",
       "  <tbody>\n",
       "    <tr>\n",
       "      <th>0</th>\n",
       "      <td>1</td>\n",
       "      <td>337</td>\n",
       "      <td>118</td>\n",
       "      <td>4</td>\n",
       "      <td>4.5</td>\n",
       "      <td>4.5</td>\n",
       "      <td>9.65</td>\n",
       "      <td>1</td>\n",
       "      <td>0.92</td>\n",
       "    </tr>\n",
       "    <tr>\n",
       "      <th>1</th>\n",
       "      <td>2</td>\n",
       "      <td>324</td>\n",
       "      <td>107</td>\n",
       "      <td>4</td>\n",
       "      <td>4.0</td>\n",
       "      <td>4.5</td>\n",
       "      <td>8.87</td>\n",
       "      <td>1</td>\n",
       "      <td>0.76</td>\n",
       "    </tr>\n",
       "    <tr>\n",
       "      <th>2</th>\n",
       "      <td>3</td>\n",
       "      <td>316</td>\n",
       "      <td>104</td>\n",
       "      <td>3</td>\n",
       "      <td>3.0</td>\n",
       "      <td>3.5</td>\n",
       "      <td>8.00</td>\n",
       "      <td>1</td>\n",
       "      <td>0.72</td>\n",
       "    </tr>\n",
       "    <tr>\n",
       "      <th>3</th>\n",
       "      <td>4</td>\n",
       "      <td>322</td>\n",
       "      <td>110</td>\n",
       "      <td>3</td>\n",
       "      <td>3.5</td>\n",
       "      <td>2.5</td>\n",
       "      <td>8.67</td>\n",
       "      <td>1</td>\n",
       "      <td>0.80</td>\n",
       "    </tr>\n",
       "    <tr>\n",
       "      <th>4</th>\n",
       "      <td>5</td>\n",
       "      <td>314</td>\n",
       "      <td>103</td>\n",
       "      <td>2</td>\n",
       "      <td>2.0</td>\n",
       "      <td>3.0</td>\n",
       "      <td>8.21</td>\n",
       "      <td>0</td>\n",
       "      <td>0.65</td>\n",
       "    </tr>\n",
       "  </tbody>\n",
       "</table>\n",
       "</div>"
      ],
      "text/plain": [
       "   Serial No.  GRE Score  TOEFL Score  University Rating  SOP  LOR   CGPA  \\\n",
       "0           1        337          118                  4  4.5   4.5  9.65   \n",
       "1           2        324          107                  4  4.0   4.5  8.87   \n",
       "2           3        316          104                  3  3.0   3.5  8.00   \n",
       "3           4        322          110                  3  3.5   2.5  8.67   \n",
       "4           5        314          103                  2  2.0   3.0  8.21   \n",
       "\n",
       "   Research  Chance of Admit   \n",
       "0         1              0.92  \n",
       "1         1              0.76  \n",
       "2         1              0.72  \n",
       "3         1              0.80  \n",
       "4         0              0.65  "
      ]
     },
     "execution_count": 4,
     "metadata": {},
     "output_type": "execute_result"
    }
   ],
   "source": [
    "Admiss.head()"
   ]
  },
  {
   "cell_type": "code",
   "execution_count": 6,
   "id": "7b48dc7d",
   "metadata": {},
   "outputs": [
    {
     "data": {
      "text/plain": [
       "3    162\n",
       "2    126\n",
       "4    105\n",
       "5     73\n",
       "1     34\n",
       "Name: University Rating, dtype: int64"
      ]
     },
     "execution_count": 6,
     "metadata": {},
     "output_type": "execute_result"
    }
   ],
   "source": [
    "Admiss['University Rating'].value_counts()"
   ]
  },
  {
   "cell_type": "code",
   "execution_count": 7,
   "id": "6e43c5fd",
   "metadata": {},
   "outputs": [],
   "source": [
    "Admiss = Admiss.drop('Serial No.', axis = 1)"
   ]
  },
  {
   "cell_type": "code",
   "execution_count": 15,
   "id": "fd23330a",
   "metadata": {},
   "outputs": [
    {
     "data": {
      "text/plain": [
       "Index(['GRE Score', 'TOEFL Score', 'University Rating', 'SOP', 'LOR ', 'CGPA',\n",
       "       'Research', 'Chance of Admit '],\n",
       "      dtype='object')"
      ]
     },
     "execution_count": 15,
     "metadata": {},
     "output_type": "execute_result"
    }
   ],
   "source": [
    "Admiss.columns"
   ]
  },
  {
   "cell_type": "code",
   "execution_count": 14,
   "id": "a1803644",
   "metadata": {},
   "outputs": [
    {
     "data": {
      "text/plain": [
       "0      4.5\n",
       "1      4.0\n",
       "2      3.0\n",
       "3      3.5\n",
       "4      2.0\n",
       "      ... \n",
       "495    4.5\n",
       "496    5.0\n",
       "497    4.5\n",
       "498    4.0\n",
       "499    4.5\n",
       "Name: SOP, Length: 500, dtype: float64"
      ]
     },
     "execution_count": 14,
     "metadata": {},
     "output_type": "execute_result"
    }
   ],
   "source": [
    "Admiss['SOP']"
   ]
  },
  {
   "cell_type": "code",
   "execution_count": 16,
   "id": "36dfcc50",
   "metadata": {},
   "outputs": [],
   "source": [
    "X_train = Admiss.drop('Chance of Admit ', axis = 1)"
   ]
  },
  {
   "cell_type": "code",
   "execution_count": 17,
   "id": "bc85a056",
   "metadata": {},
   "outputs": [],
   "source": [
    "y_train = Admiss['Chance of Admit ']"
   ]
  },
  {
   "cell_type": "code",
   "execution_count": 9,
   "id": "35080904",
   "metadata": {},
   "outputs": [],
   "source": [
    "from sklearn.model_selection import train_test_split"
   ]
  },
  {
   "cell_type": "code",
   "execution_count": 18,
   "id": "7002ab43",
   "metadata": {},
   "outputs": [],
   "source": [
    "X_train,X_test,y_train,y_test = train_test_split(X_train,y_train,test_size= 0.3, random_state= 10)"
   ]
  },
  {
   "cell_type": "code",
   "execution_count": 19,
   "id": "539076cd",
   "metadata": {},
   "outputs": [],
   "source": [
    "from sklearn.preprocessing import StandardScaler"
   ]
  },
  {
   "cell_type": "code",
   "execution_count": 20,
   "id": "4f24941f",
   "metadata": {},
   "outputs": [],
   "source": [
    "scaler = StandardScaler()"
   ]
  },
  {
   "cell_type": "code",
   "execution_count": 26,
   "id": "3ac0b09f",
   "metadata": {},
   "outputs": [
    {
     "data": {
      "text/plain": [
       "StandardScaler()"
      ]
     },
     "execution_count": 26,
     "metadata": {},
     "output_type": "execute_result"
    }
   ],
   "source": [
    "scaler.fit(X_train,y_train)"
   ]
  },
  {
   "cell_type": "code",
   "execution_count": 27,
   "id": "46d086ad",
   "metadata": {},
   "outputs": [],
   "source": [
    "X_train_tf = scaler.transform(X_train)"
   ]
  },
  {
   "cell_type": "code",
   "execution_count": 29,
   "id": "b67bcf97",
   "metadata": {},
   "outputs": [
    {
     "data": {
      "text/plain": [
       "array([-1.72084918, -1.640959  , -0.95109573, -1.86576993, -1.51864185,\n",
       "       -1.21350466, -1.11516355])"
      ]
     },
     "execution_count": 29,
     "metadata": {},
     "output_type": "execute_result"
    }
   ],
   "source": [
    "X_train_tf[1]"
   ]
  },
  {
   "cell_type": "code",
   "execution_count": 30,
   "id": "0d059436",
   "metadata": {},
   "outputs": [],
   "source": [
    "from sklearn.svm import SVR"
   ]
  },
  {
   "cell_type": "code",
   "execution_count": 31,
   "id": "06f31fca",
   "metadata": {},
   "outputs": [],
   "source": [
    "model_reg = SVR()"
   ]
  },
  {
   "cell_type": "code",
   "execution_count": 34,
   "id": "af5bfd24",
   "metadata": {},
   "outputs": [
    {
     "data": {
      "text/plain": [
       "SVR()"
      ]
     },
     "execution_count": 34,
     "metadata": {},
     "output_type": "execute_result"
    }
   ],
   "source": [
    "model_reg.fit(X_train_tf,y_train)"
   ]
  },
  {
   "cell_type": "code",
   "execution_count": 36,
   "id": "8115dbc0",
   "metadata": {},
   "outputs": [
    {
     "data": {
      "text/plain": [
       "0.795781689842849"
      ]
     },
     "execution_count": 36,
     "metadata": {},
     "output_type": "execute_result"
    }
   ],
   "source": [
    "model_reg.score(X_train_tf,y_train)"
   ]
  },
  {
   "cell_type": "code",
   "execution_count": 32,
   "id": "00058d3c",
   "metadata": {},
   "outputs": [
    {
     "data": {
      "text/html": [
       "<div>\n",
       "<style scoped>\n",
       "    .dataframe tbody tr th:only-of-type {\n",
       "        vertical-align: middle;\n",
       "    }\n",
       "\n",
       "    .dataframe tbody tr th {\n",
       "        vertical-align: top;\n",
       "    }\n",
       "\n",
       "    .dataframe thead th {\n",
       "        text-align: right;\n",
       "    }\n",
       "</style>\n",
       "<table border=\"1\" class=\"dataframe\">\n",
       "  <thead>\n",
       "    <tr style=\"text-align: right;\">\n",
       "      <th></th>\n",
       "      <th>GRE Score</th>\n",
       "      <th>TOEFL Score</th>\n",
       "      <th>University Rating</th>\n",
       "      <th>SOP</th>\n",
       "      <th>LOR</th>\n",
       "      <th>CGPA</th>\n",
       "      <th>Research</th>\n",
       "    </tr>\n",
       "  </thead>\n",
       "  <tbody>\n",
       "    <tr>\n",
       "      <th>151</th>\n",
       "      <td>332</td>\n",
       "      <td>116</td>\n",
       "      <td>5</td>\n",
       "      <td>5.0</td>\n",
       "      <td>5.0</td>\n",
       "      <td>9.28</td>\n",
       "      <td>1</td>\n",
       "    </tr>\n",
       "    <tr>\n",
       "      <th>424</th>\n",
       "      <td>325</td>\n",
       "      <td>114</td>\n",
       "      <td>5</td>\n",
       "      <td>4.0</td>\n",
       "      <td>5.0</td>\n",
       "      <td>9.46</td>\n",
       "      <td>1</td>\n",
       "    </tr>\n",
       "    <tr>\n",
       "      <th>154</th>\n",
       "      <td>326</td>\n",
       "      <td>108</td>\n",
       "      <td>3</td>\n",
       "      <td>3.0</td>\n",
       "      <td>3.5</td>\n",
       "      <td>8.89</td>\n",
       "      <td>0</td>\n",
       "    </tr>\n",
       "    <tr>\n",
       "      <th>190</th>\n",
       "      <td>324</td>\n",
       "      <td>111</td>\n",
       "      <td>5</td>\n",
       "      <td>4.5</td>\n",
       "      <td>4.0</td>\n",
       "      <td>9.16</td>\n",
       "      <td>1</td>\n",
       "    </tr>\n",
       "    <tr>\n",
       "      <th>131</th>\n",
       "      <td>303</td>\n",
       "      <td>105</td>\n",
       "      <td>5</td>\n",
       "      <td>5.0</td>\n",
       "      <td>4.5</td>\n",
       "      <td>8.65</td>\n",
       "      <td>0</td>\n",
       "    </tr>\n",
       "    <tr>\n",
       "      <th>...</th>\n",
       "      <td>...</td>\n",
       "      <td>...</td>\n",
       "      <td>...</td>\n",
       "      <td>...</td>\n",
       "      <td>...</td>\n",
       "      <td>...</td>\n",
       "      <td>...</td>\n",
       "    </tr>\n",
       "    <tr>\n",
       "      <th>12</th>\n",
       "      <td>328</td>\n",
       "      <td>112</td>\n",
       "      <td>4</td>\n",
       "      <td>4.0</td>\n",
       "      <td>4.5</td>\n",
       "      <td>9.10</td>\n",
       "      <td>1</td>\n",
       "    </tr>\n",
       "    <tr>\n",
       "      <th>97</th>\n",
       "      <td>331</td>\n",
       "      <td>120</td>\n",
       "      <td>3</td>\n",
       "      <td>4.0</td>\n",
       "      <td>4.0</td>\n",
       "      <td>8.96</td>\n",
       "      <td>1</td>\n",
       "    </tr>\n",
       "    <tr>\n",
       "      <th>130</th>\n",
       "      <td>339</td>\n",
       "      <td>114</td>\n",
       "      <td>5</td>\n",
       "      <td>4.0</td>\n",
       "      <td>4.5</td>\n",
       "      <td>9.76</td>\n",
       "      <td>1</td>\n",
       "    </tr>\n",
       "    <tr>\n",
       "      <th>472</th>\n",
       "      <td>327</td>\n",
       "      <td>116</td>\n",
       "      <td>4</td>\n",
       "      <td>4.0</td>\n",
       "      <td>4.5</td>\n",
       "      <td>9.48</td>\n",
       "      <td>1</td>\n",
       "    </tr>\n",
       "    <tr>\n",
       "      <th>315</th>\n",
       "      <td>308</td>\n",
       "      <td>104</td>\n",
       "      <td>2</td>\n",
       "      <td>2.5</td>\n",
       "      <td>3.0</td>\n",
       "      <td>8.07</td>\n",
       "      <td>0</td>\n",
       "    </tr>\n",
       "  </tbody>\n",
       "</table>\n",
       "<p>150 rows × 7 columns</p>\n",
       "</div>"
      ],
      "text/plain": [
       "     GRE Score  TOEFL Score  University Rating  SOP  LOR   CGPA  Research\n",
       "151        332          116                  5  5.0   5.0  9.28         1\n",
       "424        325          114                  5  4.0   5.0  9.46         1\n",
       "154        326          108                  3  3.0   3.5  8.89         0\n",
       "190        324          111                  5  4.5   4.0  9.16         1\n",
       "131        303          105                  5  5.0   4.5  8.65         0\n",
       "..         ...          ...                ...  ...   ...   ...       ...\n",
       "12         328          112                  4  4.0   4.5  9.10         1\n",
       "97         331          120                  3  4.0   4.0  8.96         1\n",
       "130        339          114                  5  4.0   4.5  9.76         1\n",
       "472        327          116                  4  4.0   4.5  9.48         1\n",
       "315        308          104                  2  2.5   3.0  8.07         0\n",
       "\n",
       "[150 rows x 7 columns]"
      ]
     },
     "execution_count": 32,
     "metadata": {},
     "output_type": "execute_result"
    }
   ],
   "source": [
    "X_test"
   ]
  },
  {
   "cell_type": "code",
   "execution_count": 37,
   "id": "ad5d34d0",
   "metadata": {},
   "outputs": [],
   "source": [
    "X_test_tf = scaler.transform(X_test)"
   ]
  },
  {
   "cell_type": "code",
   "execution_count": 40,
   "id": "eab3cb2d",
   "metadata": {},
   "outputs": [],
   "source": [
    "y_pred = model_reg.predict(X_test_tf)"
   ]
  },
  {
   "cell_type": "code",
   "execution_count": 44,
   "id": "16c20e56",
   "metadata": {},
   "outputs": [
    {
     "data": {
      "text/plain": [
       "array([0.86496485, 0.86544376, 0.64482082, 0.85299827, 0.70763825,\n",
       "       0.7571679 , 0.64021645, 0.83816038, 0.60406053, 0.74953337,\n",
       "       0.87375522, 0.80908299, 0.85151268, 0.68206529, 0.79832462,\n",
       "       0.74628127, 0.71051801, 0.75015934, 0.74486319, 0.63187005,\n",
       "       0.75244662, 0.62602166, 0.60171367, 0.86635673, 0.47398891,\n",
       "       0.8661915 , 0.74616477, 0.53425296, 0.65956319, 0.65960375,\n",
       "       0.88142411, 0.76185187, 0.60568308, 0.66238013, 0.72404164,\n",
       "       0.8630678 , 0.81551904, 0.67001503, 0.67858022, 0.70142812,\n",
       "       0.86592714, 0.58948813, 0.69874498, 0.87381215, 0.85493405,\n",
       "       0.4932171 , 0.56540147, 0.65592219, 0.7767599 , 0.73489897,\n",
       "       0.792937  , 0.67790403, 0.54329851, 0.60707356, 0.65354066,\n",
       "       0.79546753, 0.8373931 , 0.6203227 , 0.69152995, 0.86854312,\n",
       "       0.62174414, 0.82444754, 0.74117461, 0.51149328, 0.83425742,\n",
       "       0.50999251, 0.70470418, 0.72261518, 0.52825757, 0.70414447,\n",
       "       0.89849336, 0.54864252, 0.57481571, 0.73776689, 0.69877754,\n",
       "       0.64425432, 0.67208671, 0.73188785, 0.85369241, 0.72799487,\n",
       "       0.63857243, 0.66873685, 0.62347425, 0.77986055, 0.76376318,\n",
       "       0.82191339, 0.82145464, 0.6018832 , 0.7326382 , 0.85848804,\n",
       "       0.83327313, 0.586537  , 0.52393136, 0.74800859, 0.77726973,\n",
       "       0.71169452, 0.69585736, 0.86997394, 0.46507524, 0.70938992,\n",
       "       0.7698975 , 0.8659398 , 0.69069071, 0.74156853, 0.86657435,\n",
       "       0.47648949, 0.77858181, 0.49740716, 0.76332043, 0.82522085,\n",
       "       0.46321127, 0.72957719, 0.69464533, 0.63202936, 0.70075297,\n",
       "       0.64090891, 0.69928857, 0.50062725, 0.74896874, 0.73641777,\n",
       "       0.63268472, 0.88266049, 0.78436544, 0.79495694, 0.81452852,\n",
       "       0.62917396, 0.67721147, 0.7136261 , 0.71921903, 0.87263088,\n",
       "       0.86435118, 0.75081113, 0.79421623, 0.80151085, 0.60413325,\n",
       "       0.62157645, 0.66669771, 0.62173616, 0.84813677, 0.83077914,\n",
       "       0.52454624, 0.49515384, 0.55417874, 0.62340991, 0.61570864,\n",
       "       0.8640849 , 0.80379257, 0.87781355, 0.89482818, 0.60232934])"
      ]
     },
     "execution_count": 44,
     "metadata": {},
     "output_type": "execute_result"
    }
   ],
   "source": [
    "y_pred"
   ]
  },
  {
   "cell_type": "code",
   "execution_count": 42,
   "id": "c90fd3c2",
   "metadata": {},
   "outputs": [],
   "source": [
    "from sklearn.metrics import accuracy_score"
   ]
  },
  {
   "cell_type": "code",
   "execution_count": 50,
   "id": "c9181bd4",
   "metadata": {},
   "outputs": [
    {
     "data": {
      "text/plain": [
       "0.7556686200980536"
      ]
     },
     "execution_count": 50,
     "metadata": {},
     "output_type": "execute_result"
    }
   ],
   "source": [
    "model_reg.score(X_test_tf,y_test)"
   ]
  },
  {
   "cell_type": "code",
   "execution_count": null,
   "id": "89c4e33b",
   "metadata": {},
   "outputs": [],
   "source": []
  }
 ],
 "metadata": {
  "kernelspec": {
   "display_name": "Python 3",
   "language": "python",
   "name": "python3"
  },
  "language_info": {
   "codemirror_mode": {
    "name": "ipython",
    "version": 3
   },
   "file_extension": ".py",
   "mimetype": "text/x-python",
   "name": "python",
   "nbconvert_exporter": "python",
   "pygments_lexer": "ipython3",
   "version": "3.8.8"
  }
 },
 "nbformat": 4,
 "nbformat_minor": 5
}
